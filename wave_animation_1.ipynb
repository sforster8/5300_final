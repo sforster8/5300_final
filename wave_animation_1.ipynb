{
 "cells": [
  {
   "cell_type": "markdown",
   "metadata": {},
   "source": [
    "# Animating a simple wave\n",
    "\n",
    "We'll plot at various times a wave $u(x,t)$ that starts as a triangular shape as in Taylor Example 16.1, and then animate it.  We can imagine this as simulating a wave on a taut string.  Here $u$ is the transverse displacement (i.e., $y$ in our two-dimensional plots).  We are not solving the wave equation as a differential equation here, but starting with $u(x,0) \\equiv u_0(x)$ and plotting the solution at time $t$:\n",
    "\n",
    "$\\begin{align}\n",
    "  u(x,t) = \\frac12 u_0(x - ct) + \\frac12 u_0(x + ct)\n",
    "  \\;,\n",
    "\\end{align}$\n",
    "\n",
    "which *is* the solution to the wave equation starting with $u_0(x)$ at time $t=0$.\n",
    "\n",
    "We have various choices for animation in a Jupyter notebook.  We will consider two possibilities, which both use `FuncAnimation` from `matplotlib.animation`.\n",
    "1. Make a javascript movie that is then displayed inline with a movie-playing widget using `HTML`.  We use\n",
    "`%matplotlib inline` for this option and use `%%capture` to prevent the figure from displaying prematurely.\n",
    "2. Update the figure in real time (so to speak) by using `%matplotlib notebook`, which creates active figures that we can modify after they are displayed.\n",
    "\n",
    "We'll do the first option here. We should define at least one class for the animation.\n",
    "\n",
    "v1: Created 25-Mar-2019. Last revised 27-Mar-2019 by Dick Furnstahl (furnstahl.1@osu.edu)."
   ]
  },
  {
   "cell_type": "code",
   "execution_count": null,
   "metadata": {},
   "outputs": [],
   "source": [
    "%matplotlib inline"
   ]
  },
  {
   "cell_type": "markdown",
   "metadata": {},
   "source": [
    "To use option 2: uncomment `%matplotlib notebook` here and `fig.show()` just after we define `anim`.  Comment  out `%%capture` and `HTML(anim.to_jshtml())` below."
   ]
  },
  {
   "cell_type": "code",
   "execution_count": null,
   "metadata": {},
   "outputs": [],
   "source": [
    "#%matplotlib notebook"
   ]
  },
  {
   "cell_type": "code",
   "execution_count": null,
   "metadata": {},
   "outputs": [],
   "source": [
    "import numpy as np\n",
    "import matplotlib.pyplot as plt\n",
    "\n",
    "from matplotlib import animation, rc\n",
    "from IPython.display import HTML"
   ]
  },
  {
   "cell_type": "markdown",
   "metadata": {},
   "source": [
    "First define functions for the $t=0$ wave function form (here a triangle) and for the subsequent shape at any time $t$ based on the wave speed `c_wave`."
   ]
  },
  {
   "cell_type": "code",
   "execution_count": null,
   "metadata": {},
   "outputs": [],
   "source": [
    "def u_0_triangle(x_pts, height=1., width=1.):\n",
    "    \"\"\"Returns a triangular wave of amplitude height and width 2*width.  \n",
    "    \"\"\"\n",
    "    y_pts = np.zeros(len(x_pts))  # set the y array to all zeros\n",
    "    for i, x in enumerate(x_pts):\n",
    "        if x < width and x >= 0.:\n",
    "            y_pts[i] = -(height/width) * x + height\n",
    "        elif x < 0 and x >= -width:\n",
    "            y_pts[i] = (height/width) * x + height\n",
    "        else:\n",
    "            pass   # do nothing (everything else is zero already)\n",
    "    return y_pts\n"
   ]
  },
  {
   "cell_type": "code",
   "execution_count": null,
   "metadata": {},
   "outputs": [],
   "source": [
    "def u_triangle(x_pts, t, c_wave = 1., height=1., width=1.):\n",
    "    \"\"\"Returns the wave at time t resulting from a triangular wave of \n",
    "       amplitude height and width 2*width at time t=0.  It is the\n",
    "       superposition of two traveling waves moving to the left and the right.\n",
    "    \"\"\"\n",
    "    y_pts = u_0_triangle(x_pts - c_wave * t) / 2. + \\\n",
    "            u_0_triangle(x_pts + c_wave * t) / 2.\n",
    "    return y_pts"
   ]
  },
  {
   "cell_type": "code",
   "execution_count": null,
   "metadata": {},
   "outputs": [],
   "source": [
    "# Set up the array of x points (whatever looks good)\n",
    "x_min = -5.\n",
    "x_max = +5.\n",
    "delta_x = 0.01\n",
    "x_pts = np.arange(x_min, x_max, delta_x)\n"
   ]
  },
  {
   "cell_type": "markdown",
   "metadata": {},
   "source": [
    "First look at the initial ($t=0$) wave form."
   ]
  },
  {
   "cell_type": "code",
   "execution_count": null,
   "metadata": {},
   "outputs": [],
   "source": [
    "# Define the initial (t=0) wave form and the wave speed.\n",
    "height = 1.\n",
    "width = 1.\n",
    "c_wave = 1.\n",
    "\n",
    "# Make a figure showing the initial wave.\n",
    "t_now = 0.\n",
    "\n",
    "fig = plt.figure(figsize=(6,2), num='Triangular wave')\n",
    "ax = fig.add_subplot(1,1,1)\n",
    "ax.set_xlim(x_min, x_max)\n",
    "gap = 0.1\n",
    "ax.set_ylim(-gap, height + gap)\n",
    "ax.set_xlabel(r'$x$')\n",
    "ax.set_ylabel(r'$u_0(x)$')\n",
    "ax.set_title(rf'$t = {t_now:.1f}$')\n",
    "\n",
    "line, = ax.plot(x_pts, \n",
    "                u_triangle(x_pts, t_now, c_wave, height, width), \n",
    "                color='blue', lw=2)\n",
    "\n",
    "fig.tight_layout()\n"
   ]
  },
  {
   "cell_type": "markdown",
   "metadata": {},
   "source": [
    "Next make some plots at an array of time points."
   ]
  },
  {
   "cell_type": "code",
   "execution_count": null,
   "metadata": {},
   "outputs": [],
   "source": [
    "t_array = np.array([0., 1,  2.,  3,  4.,  -2.])\n",
    "\n",
    "fig_array = plt.figure(figsize=(12,6), num='Triangular wave')\n",
    "\n",
    "for i, t_now in enumerate(t_array): \n",
    "    ax_array = fig_array.add_subplot(3, 2, i+1)\n",
    "    ax_array.set_xlim(x_min, x_max)\n",
    "    gap = 0.1\n",
    "    ax_array.set_ylim(-gap, height + gap)\n",
    "    ax_array.set_xlabel(r'$x$')\n",
    "    ax_array.set_ylabel(r'$u_0(x)$')\n",
    "    ax_array.set_title(rf'$t = {t_now:.1f}$')\n",
    "\n",
    "    ax_array.plot(x_pts, \n",
    "                  u_triangle(x_pts, t_now, c_wave, height, width), \n",
    "                  color='blue', lw=2)\n",
    "\n",
    "fig_array.tight_layout()\n",
    "fig_array.savefig('Taylor_Example_16p1_triangle_waves.png', \n",
    "                   bbox_inches='tight')  "
   ]
  },
  {
   "cell_type": "markdown",
   "metadata": {},
   "source": [
    "Now it is time to animate!"
   ]
  },
  {
   "cell_type": "code",
   "execution_count": null,
   "metadata": {},
   "outputs": [],
   "source": [
    "# Set up the t mesh for the animation.  The maximum value of t shown in\n",
    "#  the movie will be t_min + delta_t * frame_number\n",
    "t_min = 0.   # You can make this negative to see what happens before t=0!\n",
    "t_max = 15.\n",
    "delta_t = 0.1\n",
    "t_pts = np.arange(t_min, t_max, delta_t)"
   ]
  },
  {
   "cell_type": "markdown",
   "metadata": {},
   "source": [
    "We use the cell \"magic\" `%%capture` to keep the figure from being shown here.  If we didn't the animated version below would be blank."
   ]
  },
  {
   "cell_type": "code",
   "execution_count": null,
   "metadata": {},
   "outputs": [],
   "source": [
    "%%capture\n",
    "\n",
    "fig_anim = plt.figure(figsize=(6,2), num='Triangular wave')\n",
    "ax_anim = fig_anim.add_subplot(1,1,1)\n",
    "ax_anim.set_xlim(x_min, x_max)\n",
    "gap = 0.1\n",
    "ax_anim.set_ylim(-gap, height + gap)\n",
    "\n",
    "# By assigning the first return from plot to line_anim, we can later change\n",
    "#  the values in the line.\n",
    "line_anim, = ax_anim.plot(x_pts, \n",
    "                          u_triangle(x_pts, t_min, c_wave, height, width), \n",
    "                          color='blue', lw=2)\n",
    "\n",
    "fig_anim.tight_layout()"
   ]
  },
  {
   "cell_type": "code",
   "execution_count": null,
   "metadata": {},
   "outputs": [],
   "source": [
    "def animate_wave(i):\n",
    "    \"\"\"This is the function called by FuncAnimation to create each frame,\n",
    "        numbered by i.  So each i corresponds to a point in the t_pts\n",
    "        array, with index i.\n",
    "    \"\"\"\n",
    "    t = t_pts[i]\n",
    "    y_pts = u_triangle(x_pts, t, c_wave, height, width) \n",
    "\n",
    "    line_anim.set_data(x_pts, y_pts)  # overwrite line_anim with new points\n",
    "    return (line,)   # this is needed for blit=True to work"
   ]
  },
  {
   "cell_type": "code",
   "execution_count": null,
   "metadata": {},
   "outputs": [],
   "source": [
    "frame_interval = 40.  # time between frames\n",
    "frame_number = 100    # number of frames to include (index of t_pts)\n",
    "anim = animation.FuncAnimation(fig_anim, \n",
    "                               animate_wave, \n",
    "                               init_func=None,\n",
    "                               frames=frame_number, \n",
    "                               interval=frame_interval, \n",
    "                               blit=True,\n",
    "                               repeat=False)\n",
    "\n",
    "#fig.show()"
   ]
  },
  {
   "cell_type": "code",
   "execution_count": null,
   "metadata": {},
   "outputs": [],
   "source": [
    "HTML(anim.to_jshtml())\n"
   ]
  },
  {
   "cell_type": "code",
   "execution_count": null,
   "metadata": {},
   "outputs": [],
   "source": []
  }
 ],
 "metadata": {
  "kernelspec": {
   "display_name": "Python 3",
   "language": "python",
   "name": "python3"
  },
  "language_info": {
   "codemirror_mode": {
    "name": "ipython",
    "version": 3
   },
   "file_extension": ".py",
   "mimetype": "text/x-python",
   "name": "python",
   "nbconvert_exporter": "python",
   "pygments_lexer": "ipython3",
   "version": "3.6.7"
  }
 },
 "nbformat": 4,
 "nbformat_minor": 2
}
