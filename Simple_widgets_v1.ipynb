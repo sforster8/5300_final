{
 "cells": [
  {
   "cell_type": "markdown",
   "metadata": {},
   "source": [
    "# Simple widget-based UI with ipywidgets.interactive_output\n",
    "\n",
    "Google \"ipywidgets interact\" for more information about widget types and other options for widgets."
   ]
  },
  {
   "cell_type": "code",
   "execution_count": 1,
   "metadata": {},
   "outputs": [],
   "source": [
    "import numpy as np\n",
    "\n",
    "import matplotlib.pyplot as plt"
   ]
  },
  {
   "cell_type": "markdown",
   "metadata": {},
   "source": [
    "## First only minimal controls"
   ]
  },
  {
   "cell_type": "markdown",
   "metadata": {},
   "source": [
    "### 1. Import ipywidgets and Ipython.display"
   ]
  },
  {
   "cell_type": "code",
   "execution_count": 2,
   "metadata": {},
   "outputs": [],
   "source": [
    "# Import explicitly the widgets we might use (add more as needed!) \n",
    "import ipywidgets as widgets\n",
    "from ipywidgets import HBox, VBox, Layout, Tab, Label, Checkbox\n",
    "from ipywidgets import FloatSlider, IntSlider, Play, Dropdown, HTMLMath \n",
    "\n",
    "from IPython.display import display"
   ]
  },
  {
   "cell_type": "markdown",
   "metadata": {},
   "source": [
    "### 2. Create a function with all inputs that makes the output figure(s)."
   ]
  },
  {
   "cell_type": "code",
   "execution_count": 3,
   "metadata": {},
   "outputs": [],
   "source": [
    "# \n",
    "def my_function(t, A=1., omega=1., phi=0.):\n",
    "    \"\"\"Just a sine function with adjustable amplitude, frequency, and phase\"\"\"\n",
    "    return A * np.sin(omega * t + phi)\n",
    "    \n",
    "\n",
    "def update_plot(omega=1.0):\n",
    "    \"\"\"\n",
    "    Update the plot, which includes a call to a function.\n",
    "    \"\"\"\n",
    "    t_min = 0.\n",
    "    t_max = 2. * np.pi\n",
    "    num_t = 200\n",
    "    t_pts = np.linspace(t_min, t_max, num_t)\n",
    "    \n",
    "    fig = plt.figure()\n",
    "    ax = fig.add_subplot(1, 1, 1)\n",
    "    line, = ax.plot(t_pts, my_function(t_pts, omega=omega),\n",
    "                    lw=2, color='blue')\n",
    "    "
   ]
  },
  {
   "cell_type": "markdown",
   "metadata": {},
   "source": [
    "### 3. Make a widget for each value you want to control."
   ]
  },
  {
   "cell_type": "code",
   "execution_count": 4,
   "metadata": {},
   "outputs": [],
   "source": [
    "omega_w = FloatSlider(value=1.0, min=0.1, max=10., step=0.1,\n",
    "                      description=r'$\\omega$ :')\n"
   ]
  },
  {
   "cell_type": "markdown",
   "metadata": {},
   "source": [
    "### 4.  Make any explicit callback functions and add .observe methods."
   ]
  },
  {
   "cell_type": "markdown",
   "metadata": {},
   "source": [
    "### 5. Set up the interactive_output function."
   ]
  },
  {
   "cell_type": "code",
   "execution_count": 5,
   "metadata": {},
   "outputs": [],
   "source": [
    "plot_out = widgets.interactive_output(update_plot,\n",
    "                                      dict(\n",
    "                                      omega=omega_w,\n",
    "                                      )\n",
    "                                     )"
   ]
  },
  {
   "cell_type": "markdown",
   "metadata": {},
   "source": [
    "### 6. Make the layout of the widgets."
   ]
  },
  {
   "cell_type": "code",
   "execution_count": 6,
   "metadata": {},
   "outputs": [],
   "source": [
    "UI_box = VBox([omega_w, plot_out])"
   ]
  },
  {
   "cell_type": "markdown",
   "metadata": {},
   "source": [
    "### 7. Release the Kraken!"
   ]
  },
  {
   "cell_type": "code",
   "execution_count": 7,
   "metadata": {
    "scrolled": true
   },
   "outputs": [
    {
     "data": {
      "application/vnd.jupyter.widget-view+json": {
       "model_id": "be6e221c3b524fa1a6cd1d092e3b6bd0",
       "version_major": 2,
       "version_minor": 0
      },
      "text/plain": [
       "VBox(children=(FloatSlider(value=1.0, description='$\\\\omega$ :', max=10.0, min=0.1), Output()))"
      ]
     },
     "metadata": {},
     "output_type": "display_data"
    }
   ],
   "source": [
    "display(UI_box)   "
   ]
  },
  {
   "cell_type": "markdown",
   "metadata": {},
   "source": [
    "## Now more elaborate controls and options"
   ]
  },
  {
   "cell_type": "markdown",
   "metadata": {},
   "source": [
    "### 1. Import ipywidgets and Ipython.display"
   ]
  },
  {
   "cell_type": "code",
   "execution_count": 8,
   "metadata": {},
   "outputs": [],
   "source": [
    "# Import explicitly the widgets we might use (add more as needed!) \n",
    "import ipywidgets as widgets\n",
    "from ipywidgets import HBox, VBox, Layout, Tab, Label, Checkbox\n",
    "from ipywidgets import FloatSlider, IntSlider, Play, Dropdown, HTMLMath \n",
    "\n",
    "from IPython.display import display"
   ]
  },
  {
   "cell_type": "markdown",
   "metadata": {},
   "source": [
    "### 2. Create a function with all inputs that makes the output figure(s)."
   ]
  },
  {
   "cell_type": "code",
   "execution_count": 9,
   "metadata": {},
   "outputs": [],
   "source": [
    "# \n",
    "def my_function(t, A=1., omega=1., phi=0.):\n",
    "    \"\"\"Just a sine function with adjustable amplitude, frequency, and phase\"\"\"\n",
    "    return A * np.sin(omega * t + phi)\n",
    "    \n",
    "\n",
    "def update_plot(omega=1.0, A=1., phi=0., \n",
    "                t_min=0., t_max=2.*np.pi, num_t=200,\n",
    "                lw=2, color='blue'\n",
    "               ):\n",
    "    \"\"\"\n",
    "    Update the plot, which includes a call to a function.\n",
    "    \"\"\"\n",
    "    t_pts = np.linspace(t_min, t_max, num_t)\n",
    "    \n",
    "    fig = plt.figure()\n",
    "    ax = fig.add_subplot(1, 1, 1)\n",
    "    line, = ax.plot(t_pts, my_function(t_pts, omega=omega, A=A, phi=phi),\n",
    "                    lw=lw, color=color)\n",
    "    "
   ]
  },
  {
   "cell_type": "markdown",
   "metadata": {},
   "source": [
    "### 3. Make a widget for each value you want to control."
   ]
  },
  {
   "cell_type": "code",
   "execution_count": 10,
   "metadata": {},
   "outputs": [],
   "source": [
    "slider_border = Layout(border='solid 1.0px')\n",
    "\n",
    "def float_widget(value, min, max, step, description, format):\n",
    "    \"\"\"Makes a FloatSlider with the passed parameters and continuous_update\n",
    "       set to False.\"\"\"\n",
    "    return FloatSlider(value=value, min=min, max=max, step=step,\n",
    "                       disabled=False,\n",
    "                       description=description, continuous_update=False,\n",
    "                       orientation='horizontal', layout=slider_border,\n",
    "                       readout=True, readout_format=format)\n",
    "\n",
    "\n",
    "omega_w = float_widget(value=1.0, min=0.1, max=10., step=0.1,\n",
    "                       description=r'$\\omega$ :', format='.1f')\n",
    "\n",
    "A_w = float_widget(value=1.0, min=0.1, max=10., step=0.1,\n",
    "                       description=r'$A$ :', format='.1f')\n",
    "\n",
    "phi_w = float_widget(value=0.0, min=-10., max=10., step=0.1,\n",
    "                       description=r'$\\phi$ :', format='.1f')\n",
    "\n",
    "t_min_w = float_widget(value=0.0, min=0.0, max=10., step=0.1,\n",
    "                       description=r'$t_{\\rm min}$ :', format='.1f')\n",
    "\n",
    "t_max_w = float_widget(value=20.0, min=5., max=50., step=0.1,\n",
    "                       description=r'$t_{\\rm max}$ :', format='.1f')\n",
    "\n",
    "num_t_w = IntSlider(value=200, min=50, max=500, step=10,\n",
    "                    continuous_update=False,\n",
    "                    description=r'num $t$ :', layout=slider_border)\n",
    "\n"
   ]
  },
  {
   "cell_type": "markdown",
   "metadata": {},
   "source": [
    "### 4.  Make any explicit callback functions and add .observe methods."
   ]
  },
  {
   "cell_type": "code",
   "execution_count": 11,
   "metadata": {},
   "outputs": [],
   "source": [
    "# Make sure that t_max is at least t_min + 1\n",
    "def update_t_max(*args):\n",
    "    if t_max_w.value < t_min_w.value:\n",
    "        t_max_w.value = t_min_w.value + 1.     \n",
    "t_max_w.observe(update_t_max, 'value')\n",
    "t_min_w.observe(update_t_max, 'value')\n"
   ]
  },
  {
   "cell_type": "markdown",
   "metadata": {},
   "source": [
    "### 5. Set up the interactive_output function."
   ]
  },
  {
   "cell_type": "code",
   "execution_count": 12,
   "metadata": {},
   "outputs": [],
   "source": [
    "plot_out = widgets.interactive_output(update_plot,\n",
    "                                      dict(\n",
    "                                      omega=omega_w,\n",
    "                                      A=A_w,\n",
    "                                      phi=phi_w,\n",
    "                                      t_min=t_min_w,\n",
    "                                      t_max=t_max_w,\n",
    "                                      num_t=num_t_w,\n",
    "                                      )\n",
    "                                     )"
   ]
  },
  {
   "cell_type": "markdown",
   "metadata": {},
   "source": [
    "### 6. Make the layout of the widgets."
   ]
  },
  {
   "cell_type": "code",
   "execution_count": 13,
   "metadata": {},
   "outputs": [],
   "source": [
    "hbox_1 = HBox([t_min_w, t_max_w, num_t_w])\n",
    "hbox_2 = HBox([omega_w, A_w, phi_w])\n",
    "UI_box = VBox([hbox_1, hbox_2, plot_out])"
   ]
  },
  {
   "cell_type": "markdown",
   "metadata": {},
   "source": [
    "### 7. Release the Kraken!"
   ]
  },
  {
   "cell_type": "code",
   "execution_count": 14,
   "metadata": {
    "scrolled": true
   },
   "outputs": [
    {
     "data": {
      "application/vnd.jupyter.widget-view+json": {
       "model_id": "e1cba29b4c5043c690fcfe47555869dd",
       "version_major": 2,
       "version_minor": 0
      },
      "text/plain": [
       "VBox(children=(HBox(children=(FloatSlider(value=0.0, continuous_update=False, description='$t_{\\\\rm min}$ :', …"
      ]
     },
     "metadata": {},
     "output_type": "display_data"
    }
   ],
   "source": [
    "display(UI_box)   "
   ]
  },
  {
   "cell_type": "code",
   "execution_count": null,
   "metadata": {},
   "outputs": [],
   "source": []
  }
 ],
 "metadata": {
  "kernelspec": {
   "display_name": "Python 3",
   "language": "python",
   "name": "python3"
  },
  "language_info": {
   "codemirror_mode": {
    "name": "ipython",
    "version": 3
   },
   "file_extension": ".py",
   "mimetype": "text/x-python",
   "name": "python",
   "nbconvert_exporter": "python",
   "pygments_lexer": "ipython3",
   "version": "3.6.7"
  }
 },
 "nbformat": 4,
 "nbformat_minor": 2
}
